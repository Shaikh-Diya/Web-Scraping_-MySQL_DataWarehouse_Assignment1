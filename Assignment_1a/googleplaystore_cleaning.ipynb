{
 "cells": [
  {
   "cell_type": "code",
   "execution_count": 1,
   "metadata": {},
   "outputs": [],
   "source": [
    "import pandas\n",
    "\n",
    "googlePlay_data = pandas.read_csv('googleplaystore.csv')\n",
    "\n",
    "#removing the column or field \"Price\"\n",
    "googlePlay_data = googlePlay_data.drop(['Price'],axis = 1)\n",
    "#removing the column or field \"Type\"\n",
    "googlePlay_data = googlePlay_data.drop(['Type'],axis = 1)\n",
    "googlePlay_data = googlePlay_data.drop(['Genres'],axis = 1)\n",
    "#removing the field \"Content Rating\"\n",
    "googlePlay_data = googlePlay_data.drop(['Content Rating'],axis = 1)\n",
    "#dropping duplicate records\n",
    "googlePlay_data = googlePlay_data.drop_duplicates()\n",
    "\n",
    "\n",
    "googlePlay_data.to_csv('googleplaystore_clean.csv')\n",
    "\n",
    "\n",
    "googlePlay_UserR = pandas.read_csv('googleplaystore_user_reviews.csv')\n",
    "googlePlay_UserR.dropna(inplace = True)\n",
    "#removing the field \"Sentiment_Polarity\" because it should not be in numerical values. And the values from\n",
    "#\"Sentiment\" can be used in place of Sentiment_Polarity\n",
    "googlePlay_UserR = googlePlay_UserR.drop(['Sentiment_Polarity'], axis = 1)\n",
    "googlePlay_UserR = googlePlay_UserR.drop(['App'], axis = 1)\n",
    "googlePlay_UserR = googlePlay_UserR.drop(['Sentiment_Subjectivity'], axis = 1)\n",
    "googlePlay_UserR = googlePlay_UserR.drop_duplicates()\n",
    "googlePlay_UserR.to_csv('googleplaystore_user_reviews_clean.csv') "
   ]
  },
  {
   "cell_type": "code",
   "execution_count": null,
   "metadata": {},
   "outputs": [],
   "source": []
  },
  {
   "cell_type": "code",
   "execution_count": null,
   "metadata": {},
   "outputs": [],
   "source": []
  }
 ],
 "metadata": {
  "kernelspec": {
   "display_name": "Python 3",
   "language": "python",
   "name": "python3"
  },
  "language_info": {
   "codemirror_mode": {
    "name": "ipython",
    "version": 3
   },
   "file_extension": ".py",
   "mimetype": "text/x-python",
   "name": "python",
   "nbconvert_exporter": "python",
   "pygments_lexer": "ipython3",
   "version": "3.7.1"
  }
 },
 "nbformat": 4,
 "nbformat_minor": 2
}
